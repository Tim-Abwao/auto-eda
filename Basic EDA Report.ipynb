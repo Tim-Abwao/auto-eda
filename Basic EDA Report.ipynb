{
 "cells": [
  {
   "cell_type": "code",
   "execution_count": 1,
   "metadata": {
    "scrolled": true
   },
   "outputs": [],
   "source": [
    "from docx import Document\n",
    "from docx.shared import Inches\n",
    "import numpy as np\n",
    "import pandas as pd\n",
    "import seaborn as sns\n",
    "from pandas.plotting import table\n",
    "from matplotlib.figure import Figure\n",
    "import matplotlib\n",
    "import os\n",
    "\n",
    "\n",
    "matplotlib.rcParams['figure.dpi'] = 150\n",
    "matplotlib.rcParams['figure.autolayout'] = True\n",
    "matplotlib.rcParams['savefig.transparent'] = True\n",
    "matplotlib.rcParams['font.family'] = 'serif'\n",
    "matplotlib.rcParams['axes.spines.top'] = False\n",
    "matplotlib.rcParams['axes.spines.right'] = False\n",
    "matplotlib.use('agg')"
   ]
  },
  {
   "cell_type": "markdown",
   "metadata": {},
   "source": [
    "# 1. Load a dataset "
   ]
  },
  {
   "cell_type": "code",
   "execution_count": 2,
   "metadata": {
    "scrolled": false
   },
   "outputs": [
    {
     "data": {
      "text/plain": [
       "Index(['species', 'island', 'bill_length_mm', 'bill_depth_mm',\n",
       "       'flipper_length_mm', 'body_mass_g', 'sex'],\n",
       "      dtype='object')"
      ]
     },
     "execution_count": 2,
     "metadata": {},
     "output_type": "execute_result"
    }
   ],
   "source": [
    "df = sns.load_dataset('penguins')\n",
    "df.columns\n"
   ]
  },
  {
   "cell_type": "code",
   "execution_count": 3,
   "metadata": {},
   "outputs": [],
   "source": [
    "# Ensure images folder exists\n",
    "if not os.path.isdir('images'):\n",
    "    os.mkdir('images')"
   ]
  },
  {
   "cell_type": "markdown",
   "metadata": {},
   "source": [
    "# 2. Create Word document"
   ]
  },
  {
   "cell_type": "code",
   "execution_count": 4,
   "metadata": {},
   "outputs": [],
   "source": [
    "# Custom options\n",
    "DATA_NAME = 'Penguin Data'\n",
    "GRAPH_COLOR = 'cyan'\n",
    "TABLE_STYLE = 'Table Grid'\n",
    "OUTPUT_FILE = 'basic-report.docx'"
   ]
  },
  {
   "cell_type": "markdown",
   "metadata": {},
   "source": [
    "## 2.1 Title page "
   ]
  },
  {
   "cell_type": "code",
   "execution_count": 5,
   "metadata": {},
   "outputs": [],
   "source": [
    "def populate_title_page(data):\n",
    "    \n",
    "    # add intro text\n",
    "    num_of_cols = f\"There are {data.shape[1]} variables in the data,\"\n",
    "    num_numeric = len(data.select_dtypes(include='number').columns)\n",
    "    num_numeric = \"None\" if not num_numeric else num_numeric\n",
    "    numeric_cols = f\"{num_numeric} of which are numeric:\"\n",
    "    document.add_paragraph(' '.join([num_of_cols, numeric_cols]))\n",
    "    \n",
    "    # add scatterplot picture\n",
    "    fig = sns.pairplot(data, height=1.75, plot_kws={'color': GRAPH_COLOR},\n",
    "                       diag_kws={'color': GRAPH_COLOR})\n",
    "    fig.fig.suptitle('Scatter-plots of Numeric Columns', x=0.5, y=1.04, size=20)\n",
    "    fig.savefig('images/pair_plot.png')\n",
    "    document.add_picture('images/pair_plot.png', width=Inches(6.5))"
   ]
  },
  {
   "cell_type": "markdown",
   "metadata": {},
   "source": [
    "## 2.2 Tables"
   ]
  },
  {
   "cell_type": "code",
   "execution_count": 6,
   "metadata": {},
   "outputs": [],
   "source": [
    "def summary_statistics_numeric(data):\n",
    "    summary = data.describe()\n",
    "    summary.index = ['Number of observations', 'Average', 'Standard Deviation',\n",
    "                     'Minimum', 'Lower Quartile', 'Median', 'Upper Quartile', \n",
    "                     'Maximum']\n",
    "    summary['Skewness'] = data.skew()\n",
    "    summary['Kurtosis'] = data.kurt()\n",
    "    return summary.round(4)\n",
    "\n",
    "\n",
    "def summary_statistics_categorical(data):\n",
    "    count = data.count()\n",
    "    unique = data.nunique()\n",
    "    commonest_item = data.value_counts().idxmax()\n",
    "    return pd.Series([count, unique, commonest_item],\n",
    "                     index = ['Number of observations', 'Unique values', \n",
    "                              'Mode (Highest occurring value)'])\n",
    "\n",
    "\n",
    "def summary_statistics_table(summary):\n",
    "    table = document.add_table(rows=len(summary), cols=2)\n",
    "    table.style = document.styles[TABLE_STYLE]\n",
    "    table.columns[0].width = Inches(2.5)\n",
    "    table.columns[1].width = Inches(2)\n",
    "    records = [(col, str(val)) for col, val in summary.items()]\n",
    "\n",
    "    for idx, row in enumerate(table.rows):\n",
    "        label, value = records[idx]\n",
    "        row.cells[0].text = label\n",
    "        row.cells[1].text = value\n",
    "\n",
    "        \n",
    "def most_frequent_table(data):\n",
    "    top5 = data.value_counts().head()\n",
    "    percentage = top5 / len(data) * 100\n",
    "    top5 = pd.concat([top5, percentage], axis=1, keys=['count', 'pct'])\n",
    "    top5 = list(top5.itertuples())\n",
    "    \n",
    "    table = document.add_table(rows=len(top5), cols=2)\n",
    "    table.style = document.styles[TABLE_STYLE]\n",
    "    table.columns[0].width = Inches(2.5)\n",
    "    table.columns[1].width = Inches(2)\n",
    "   \n",
    "    for idx, row in enumerate(table.rows):\n",
    "        item, freq, pct = top5[idx]\n",
    "        row.cells[0].text = item\n",
    "        row.cells[1].text = f\"{freq:,} ({pct:.2f}%)\""
   ]
  },
  {
   "cell_type": "markdown",
   "metadata": {},
   "source": [
    "## 2.3 Graphs"
   ]
  },
  {
   "cell_type": "code",
   "execution_count": 7,
   "metadata": {},
   "outputs": [],
   "source": [
    "def plot_numeric(var_name, data):\n",
    "    fig = Figure(figsize=(6, 6))\n",
    "    ax1, ax2 = fig.subplots(2, 1)\n",
    "    \n",
    "    ax1.boxplot(data.dropna(), vert=False, notch=True)\n",
    "    ax1.set_yticklabels([''])\n",
    "    ax1.set_xlabel(f'{var_name}')\n",
    "    ax1.set_title(f'Box-plot of {var_name.title()}', size=12)\n",
    "    \n",
    "    ax2.set_title(f'Distribution plot of {var_name.title()}', size=12)\n",
    "    sns.histplot(x=data, kde=True, ax=ax2, color=GRAPH_COLOR)\n",
    "    fig.savefig(f'images/{var_name}.png')\n",
    "\n",
    "\n",
    "def plot_categorical(var_name, data):\n",
    "    fig = Figure(figsize=(6, 4))\n",
    "    ax = fig.subplots()\n",
    "    sns.countplot(x=data, color=GRAPH_COLOR, ax=ax)\n",
    "    ax.set_title(f'Bar-plot of {var_name.title()}', size=12)\n",
    "    fig.savefig(f'images/{var_name}.png')"
   ]
  },
  {
   "cell_type": "markdown",
   "metadata": {},
   "source": [
    "## 2.4 Create content for all features"
   ]
  },
  {
   "cell_type": "code",
   "execution_count": 8,
   "metadata": {
    "scrolled": true
   },
   "outputs": [],
   "source": [
    "def compute_missing(data):\n",
    "    num_missing = data.isna().sum()\n",
    "    if num_missing == 0:\n",
    "        return \"None\"\n",
    "    else:\n",
    "        return f\"{num_missing} ({num_missing / len(data) * 100 :.2}%)\"\n",
    "\n",
    "\n",
    "def describe_variable(idx, var_name, data):\n",
    "    document.add_heading(f'{idx}. {var_name.title()}', level=2)\n",
    "    \n",
    "    unique_values = f\"\"\"\n",
    "    {var_name.title()} has {data.nunique()} unique values.\"\"\"\n",
    "    missing_values = f\"{compute_missing(data)} of its values are missing.\"\n",
    "\n",
    "    document.add_paragraph(' '.join([unique_values, missing_values]))\n",
    "    \n",
    "    \n",
    "def compile_features_content(data):\n",
    "    numeric = data.select_dtypes(include='number')\n",
    "    categorical = data.select_dtypes(include='object')\n",
    "    idx = 1\n",
    "    \n",
    "    if numeric.shape[1] > 0:\n",
    "        for col, series in numeric.items():\n",
    "            describe_variable(idx, col, series)\n",
    "            \n",
    "            document.add_heading('Summary Statistics', level=4)\n",
    "            summary = summary_statistics_numeric(series)\n",
    "            summary_statistics_table(summary)\n",
    "            document.add_paragraph()\n",
    "            \n",
    "            plot_numeric(col, series)\n",
    "            document.add_picture(f'images/{col}.png', width=Inches(5))\n",
    "            document.add_page_break()\n",
    "            idx += 1\n",
    "\n",
    "    if categorical.shape[1] > 0:\n",
    "        for col, series in categorical.items():\n",
    "            describe_variable(idx, col, series)\n",
    "            \n",
    "            document.add_heading('Summary', level=4)\n",
    "            summary = summary_statistics_categorical(series)\n",
    "            summary_statistics_table(summary)\n",
    "            document.add_paragraph()\n",
    "            \n",
    "            document.add_heading('Most Frequent', level=4)\n",
    "            most_frequent_table(series)            \n",
    "            document.add_paragraph()\n",
    "            \n",
    "            plot_categorical(col, series)\n",
    "            document.add_picture(f'images/{col}.png', width=Inches(5))\n",
    "            document.add_page_break()\n",
    "            idx += 1\n",
    "            \n",
    "\n",
    "# Create the document\n",
    "document = Document()\n",
    "document.add_heading(f'Exploratory Data Analysis Report - {DATA_NAME.title()}', level=0)\n",
    "\n",
    "# title page content\n",
    "populate_title_page(df)\n",
    "document.add_page_break()\n",
    "\n",
    "# summaries and graphs for all features\n",
    "compile_features_content(df)"
   ]
  },
  {
   "cell_type": "markdown",
   "metadata": {},
   "source": [
    "# 3. Export Results"
   ]
  },
  {
   "cell_type": "code",
   "execution_count": 9,
   "metadata": {
    "scrolled": true
   },
   "outputs": [],
   "source": [
    "document.save(OUTPUT_FILE)"
   ]
  }
 ],
 "metadata": {
  "kernelspec": {
   "display_name": "Python 3",
   "language": "python",
   "name": "python3"
  },
  "language_info": {
   "codemirror_mode": {
    "name": "ipython",
    "version": 3
   },
   "file_extension": ".py",
   "mimetype": "text/x-python",
   "name": "python",
   "nbconvert_exporter": "python",
   "pygments_lexer": "ipython3",
   "version": "3.8.5"
  }
 },
 "nbformat": 4,
 "nbformat_minor": 4
}
