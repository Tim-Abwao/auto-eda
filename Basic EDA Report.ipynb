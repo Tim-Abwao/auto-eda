{
 "cells": [
  {
   "cell_type": "code",
   "execution_count": 1,
   "metadata": {
    "scrolled": true
   },
   "outputs": [],
   "source": [
    "from docx import Document\n",
    "from docx.shared import Inches\n",
    "import numpy as np\n",
    "import pandas as pd\n",
    "import seaborn as sns\n",
    "from pandas.plotting import table\n",
    "from matplotlib.figure import Figure\n",
    "import matplotlib\n",
    "import os\n",
    "\n",
    "\n",
    "matplotlib.rcParams['figure.dpi'] = 150\n",
    "matplotlib.rcParams['figure.autolayout'] = True\n",
    "matplotlib.rcParams['savefig.transparent'] = True\n",
    "matplotlib.rcParams['font.family'] = 'serif'\n",
    "matplotlib.rcParams['axes.spines.top'] = False\n",
    "matplotlib.rcParams['axes.spines.right'] = False\n",
    "matplotlib.use('agg')"
   ]
  },
  {
   "cell_type": "markdown",
   "metadata": {},
   "source": [
    "# 1. Load a dataset "
   ]
  },
  {
   "cell_type": "code",
   "execution_count": 2,
   "metadata": {
    "scrolled": false
   },
   "outputs": [
    {
     "data": {
      "text/plain": [
       "Index(['species', 'island', 'bill_length_mm', 'bill_depth_mm',\n",
       "       'flipper_length_mm', 'body_mass_g', 'sex'],\n",
       "      dtype='object')"
      ]
     },
     "execution_count": 2,
     "metadata": {},
     "output_type": "execute_result"
    }
   ],
   "source": [
    "df = sns.load_dataset('penguins')\n",
    "df.columns\n"
   ]
  },
  {
   "cell_type": "code",
   "execution_count": 3,
   "metadata": {},
   "outputs": [],
   "source": [
    "# Ensure images folder exists\n",
    "if not os.path.isdir('images'):\n",
    "    os.mkdir('images')"
   ]
  },
  {
   "cell_type": "code",
   "execution_count": 4,
   "metadata": {},
   "outputs": [],
   "source": [
    "# Custom options\n",
    "DATA_NAME = 'Penguin Data'\n",
    "GRAPH_COLOR = 'cyan'\n",
    "TABLE_STYLE = 'Table Grid'\n",
    "OUTPUT_FILE = 'basic-report.docx'"
   ]
  },
  {
   "cell_type": "markdown",
   "metadata": {},
   "source": [
    "# 2. Descriptive Statistics\n",
    "\n",
    "## 2.1 Title page "
   ]
  },
  {
   "cell_type": "code",
   "execution_count": 5,
   "metadata": {},
   "outputs": [],
   "source": [
    "def populate_title_page(data):\n",
    "    \n",
    "    # add intro text\n",
    "    num_of_cols = f\"There are {data.shape[1]} variables in the data,\"\n",
    "    num_numeric = len(data.select_dtypes(include='number').columns)\n",
    "    num_numeric = \"None\" if not num_numeric else num_numeric\n",
    "    numeric_cols = f\"{num_numeric} of which are numeric:\"\n",
    "    document.add_paragraph(' '.join([num_of_cols, numeric_cols]))\n",
    "    \n",
    "    # add scatterplot picture\n",
    "    fig = sns.pairplot(data, height=1.75, plot_kws={'color': GRAPH_COLOR},\n",
    "                       diag_kws={'color': GRAPH_COLOR})\n",
    "    fig.fig.suptitle('Scatter-plots of Numeric Columns', x=0.5, y=1.04, size=20)\n",
    "    fig.savefig('images/pair_plot.png')\n",
    "    document.add_picture('images/pair_plot.png', width=Inches(6.5))"
   ]
  },
  {
   "cell_type": "markdown",
   "metadata": {},
   "source": [
    "## 2.2 Summary tables"
   ]
  },
  {
   "cell_type": "code",
   "execution_count": 6,
   "metadata": {},
   "outputs": [],
   "source": [
    "def summary_statistics_numeric(data):\n",
    "    summary = data.describe()\n",
    "    summary.index = ['Number of observations', 'Average', 'Standard Deviation',\n",
    "                     'Minimum', 'Lower Quartile', 'Median', 'Upper Quartile', \n",
    "                     'Maximum']\n",
    "    summary['Skewness'] = data.skew()\n",
    "    summary['Kurtosis'] = data.kurt()\n",
    "    return summary.round(4)\n",
    "\n",
    "\n",
    "def summary_statistics_categorical(data):\n",
    "    count = data.count()\n",
    "    unique = data.nunique()\n",
    "    commonest_item = data.value_counts().idxmax()\n",
    "    return pd.Series([count, unique, commonest_item],\n",
    "                     index = ['Number of observations', 'Unique values', \n",
    "                              'Mode (Highest occurring value)'])\n",
    "\n",
    "\n",
    "def summary_statistics_table(summary):\n",
    "    table = document.add_table(rows=len(summary), cols=2)\n",
    "    table.style = document.styles[TABLE_STYLE]\n",
    "    table.columns[0].width = Inches(2.5)\n",
    "    table.columns[1].width = Inches(2)\n",
    "    records = [(col, str(val)) for col, val in summary.items()]\n",
    "\n",
    "    for idx, row in enumerate(table.rows):\n",
    "        label, value = records[idx]\n",
    "        row.cells[0].text = label\n",
    "        row.cells[1].text = value\n",
    "\n",
    "        \n",
    "def most_frequent_table(data):\n",
    "    top5 = data.value_counts().head()\n",
    "    percentage = top5 / len(data) * 100\n",
    "    top5 = pd.concat([top5, percentage], axis=1, keys=['count', 'pct'])\n",
    "    top5 = list(top5.itertuples())\n",
    "    \n",
    "    table = document.add_table(rows=len(top5), cols=2)\n",
    "    table.style = document.styles[TABLE_STYLE]\n",
    "    table.columns[0].width = Inches(2.5)\n",
    "    table.columns[1].width = Inches(2)\n",
    "   \n",
    "    for idx, row in enumerate(table.rows):\n",
    "        item, freq, pct = top5[idx]\n",
    "        row.cells[0].text = item\n",
    "        row.cells[1].text = f\"{freq:,} ({pct:.2f}%)\""
   ]
  },
  {
   "cell_type": "markdown",
   "metadata": {},
   "source": [
    "## 2.3 Boxplots, histograms and barplots"
   ]
  },
  {
   "cell_type": "code",
   "execution_count": 7,
   "metadata": {},
   "outputs": [],
   "source": [
    "def plot_numeric(var_name, data):\n",
    "    fig = Figure(figsize=(6, 6))\n",
    "    ax1, ax2 = fig.subplots(2, 1)\n",
    "    \n",
    "    ax1.boxplot(data.dropna(), vert=False, notch=True)\n",
    "    ax1.set_yticklabels([''])\n",
    "    ax1.set_xlabel(f'{var_name}')\n",
    "    ax1.set_title(f'Box-plot of {var_name.title()}', size=12)\n",
    "    \n",
    "    ax2.set_title(f'Distribution plot of {var_name.title()}', size=12)\n",
    "    sns.histplot(x=data, kde=True, ax=ax2, color=GRAPH_COLOR)\n",
    "    fig.savefig(f'images/{var_name}.png')\n",
    "\n",
    "\n",
    "def plot_categorical(var_name, data):\n",
    "    fig = Figure(figsize=(6, 4))\n",
    "    ax = fig.subplots()\n",
    "    sns.countplot(x=data, color=GRAPH_COLOR, ax=ax)\n",
    "    ax.set_title(f'Bar-plot of {var_name.title()}', size=12)\n",
    "    fig.savefig(f'images/{var_name}.png')"
   ]
  },
  {
   "cell_type": "markdown",
   "metadata": {},
   "source": [
    "## 2.4 Descriptive summary"
   ]
  },
  {
   "cell_type": "code",
   "execution_count": 8,
   "metadata": {},
   "outputs": [],
   "source": [
    "def compute_missing(data):\n",
    "    num_missing = data.isna().sum()\n",
    "    if num_missing == 0:\n",
    "        return \"None\"\n",
    "    else:\n",
    "        return f\"{num_missing} ({num_missing / len(data) * 100 :.2}%)\"\n",
    "\n",
    "\n",
    "def describe_variable(idx, var_name, data):\n",
    "    document.add_heading(f'{idx}. {var_name.title()}', level=2)\n",
    "    \n",
    "    unique_values = f\"\"\"\n",
    "    {var_name.capitalize()} has {data.nunique()} unique values.\"\"\"\n",
    "    missing_values = f\"{compute_missing(data)} of its values are missing.\"\n",
    "\n",
    "    document.add_paragraph(' '.join([unique_values, missing_values]))\n",
    "    \n",
    "    \n",
    "def compile_features_content(data):\n",
    "    numeric = data.select_dtypes(include='number')\n",
    "    categorical = data.select_dtypes(include='object')\n",
    "    idx = 1\n",
    "    \n",
    "    if numeric.shape[1] > 0:\n",
    "        for col, series in numeric.items():\n",
    "            describe_variable(idx, col, series)\n",
    "            \n",
    "            document.add_heading('Summary Statistics', level=4)\n",
    "            summary = summary_statistics_numeric(series)\n",
    "            summary_statistics_table(summary)\n",
    "            document.add_paragraph()\n",
    "            \n",
    "            plot_numeric(col, series)\n",
    "            document.add_picture(f'images/{col}.png', width=Inches(5))\n",
    "            document.add_page_break()\n",
    "            idx += 1\n",
    "\n",
    "    if categorical.shape[1] > 0:\n",
    "        for col, series in categorical.items():\n",
    "            describe_variable(idx, col, series)\n",
    "            \n",
    "            document.add_heading('Summary', level=4)\n",
    "            summary = summary_statistics_categorical(series)\n",
    "            summary_statistics_table(summary)\n",
    "            document.add_paragraph()\n",
    "            \n",
    "            document.add_heading('Most Frequent', level=4)\n",
    "            most_frequent_table(series)            \n",
    "            document.add_paragraph()\n",
    "            \n",
    "            plot_categorical(col, series)\n",
    "            document.add_picture(f'images/{col}.png', width=Inches(5))\n",
    "            document.add_page_break()\n",
    "            idx += 1"
   ]
  },
  {
   "cell_type": "markdown",
   "metadata": {},
   "source": [
    "# 3. Bivariate Analysis\n",
    "\n",
    "## 3.1 Correlation heatmap"
   ]
  },
  {
   "cell_type": "code",
   "execution_count": 9,
   "metadata": {
    "scrolled": true
   },
   "outputs": [],
   "source": [
    "corrs = df.corr()\n",
    "\n",
    "\n",
    "def plot_joint_corr():\n",
    "    fig = Figure(figsize=(6, 6))\n",
    "    ax = fig.subplots()\n",
    "    sns.heatmap(corrs, annot=True, mask=np.triu(corrs), ax=ax, yticklabels=True, \n",
    "                cmap=sns.light_palette(GRAPH_COLOR, as_cmap=True))\n",
    "    ax.tick_params(rotation=45)\n",
    "    fig.suptitle('Correlation in Numeric Columns', size=20)\n",
    "    fig.savefig('images/joint_corr.png')\n",
    "\n",
    "    \n",
    "def add_corr_intro():\n",
    "    document.add_heading('Bivariate Analysis (Correlation)\\n', level=1)\n",
    "    \n",
    "    plot_joint_corr()\n",
    "    \n",
    "    document.add_picture('images/joint_corr.png', width=Inches(6.7))\n",
    "    document.add_page_break()"
   ]
  },
  {
   "cell_type": "markdown",
   "metadata": {},
   "source": [
    "## 3.2 Pairwise correlation "
   ]
  },
  {
   "cell_type": "code",
   "execution_count": 10,
   "metadata": {},
   "outputs": [],
   "source": [
    "def get_var_pairs(corrs):\n",
    "    return [(corrs.index[x], corrs.index[y])\n",
    "            for x, y in zip(*np.triu_indices(len(corrs)))\n",
    "            if x != y]\n",
    "      \n",
    "\n",
    "related = get_var_pairs(corrs)\n",
    "\n",
    "def plot_regression(var1, var2):\n",
    "    fig = Figure(figsize=(8.2, 4))\n",
    "    ax1, ax2 = fig.subplots(1, 2)\n",
    "    sns.regplot(x=var1, y=var2, data=df, ax=ax1, truncate=False, color=GRAPH_COLOR)\n",
    "    sns.regplot(x=var2, y=var1, data=df, ax=ax2, truncate=False, color=GRAPH_COLOR)\n",
    "    ax1.set_title(f'Scatterplot - {var1.title()} vs {var2.title()}', size=9)\n",
    "    ax2.set_title(f'Scatterplot - {var2.title()} vs {var1.title()}', size=9)\n",
    "    fig.savefig(f'images/{var1}~{var2}.png')\n",
    "\n",
    "    \n",
    "def quantify_corr(var1, var2):\n",
    "    value = corrs.loc[var1, var2]\n",
    "    nature = ' positive' if value > 0 else ' negative'\n",
    "    \n",
    "    if abs(value) >= 0.9:\n",
    "        strength = 'very strong'\n",
    "    elif 0.7 <= abs(value) < 0.9:\n",
    "        strength = 'strong'\n",
    "    elif 0.5 <= abs(value) < 0.7:\n",
    "        strength = 'moderate'\n",
    "    elif 0.3 <= abs(value) < 0.5:\n",
    "        strength = 'weak'\n",
    "    elif 0.1 <= abs(value) < 0.3:\n",
    "        strength = 'very weak'\n",
    "    else:\n",
    "        strength = 'virtually no'\n",
    "        nature = ''\n",
    "    \n",
    "    return f'{strength}{ nature} correlation ({value:.2f})'\n",
    "\n",
    "\n",
    "def compare_vars():\n",
    "    idx = 1\n",
    "    for var1, var2 in related:\n",
    "        document.add_heading(f'{idx}. {var1.title()} vs {var2.title()}', level=2)\n",
    "        document.add_paragraph(f'\\n{var1.capitalize()} and {var2.capitalize()} have {quantify_corr(var1, var2)}.')\n",
    "        \n",
    "        plot_regression(var1, var2)\n",
    "        document.add_picture(f'images/{var1}~{var2}.png', width=Inches(6))\n",
    "        document.add_paragraph()\n",
    "        \n",
    "        idx += 1        "
   ]
  },
  {
   "cell_type": "markdown",
   "metadata": {},
   "source": [
    "# 4. Compile & export document"
   ]
  },
  {
   "cell_type": "code",
   "execution_count": 11,
   "metadata": {
    "scrolled": true
   },
   "outputs": [],
   "source": [
    "# Create the document\n",
    "document = Document()\n",
    "document.add_heading(f'Exploratory Data Analysis Report - {DATA_NAME.title()}', level=0)\n",
    "\n",
    "# title page content\n",
    "populate_title_page(df)\n",
    "document.add_page_break()\n",
    "\n",
    "# summaries and graphs for all features\n",
    "compile_features_content(df)\n",
    "\n",
    "# add joint correlation plot\n",
    "add_corr_intro()\n",
    "\n",
    "# add pairwise correlation \n",
    "compare_vars()\n",
    "\n",
    "document.save(OUTPUT_FILE)"
   ]
  }
 ],
 "metadata": {
  "kernelspec": {
   "display_name": "Python 3",
   "language": "python",
   "name": "python3"
  },
  "language_info": {
   "codemirror_mode": {
    "name": "ipython",
    "version": 3
   },
   "file_extension": ".py",
   "mimetype": "text/x-python",
   "name": "python",
   "nbconvert_exporter": "python",
   "pygments_lexer": "ipython3",
   "version": "3.8.5"
  }
 },
 "nbformat": 4,
 "nbformat_minor": 4
}
