{
 "cells": [
  {
   "cell_type": "markdown",
   "metadata": {},
   "source": [
    "# 1. Load a Dataset\n",
    "\n",
    "See [pandas IO tools][1] for ways to read data from various sources.\n",
    "\n",
    "[1]: https://pandas.pydata.org/pandas-docs/stable/user_guide/io.html"
   ]
  },
  {
   "cell_type": "code",
   "execution_count": 1,
   "metadata": {},
   "outputs": [
    {
     "data": {
      "text/html": [
       "<div>\n",
       "<style scoped>\n",
       "    .dataframe tbody tr th:only-of-type {\n",
       "        vertical-align: middle;\n",
       "    }\n",
       "\n",
       "    .dataframe tbody tr th {\n",
       "        vertical-align: top;\n",
       "    }\n",
       "\n",
       "    .dataframe thead th {\n",
       "        text-align: right;\n",
       "    }\n",
       "</style>\n",
       "<table border=\"1\" class=\"dataframe\">\n",
       "  <thead>\n",
       "    <tr style=\"text-align: right;\">\n",
       "      <th></th>\n",
       "      <th>mpg</th>\n",
       "      <th>cylinders</th>\n",
       "      <th>displacement</th>\n",
       "      <th>horsepower</th>\n",
       "      <th>weight</th>\n",
       "      <th>acceleration</th>\n",
       "      <th>model_year</th>\n",
       "      <th>origin</th>\n",
       "      <th>name</th>\n",
       "    </tr>\n",
       "  </thead>\n",
       "  <tbody>\n",
       "    <tr>\n",
       "      <th>0</th>\n",
       "      <td>18.0</td>\n",
       "      <td>8</td>\n",
       "      <td>307.0</td>\n",
       "      <td>130.0</td>\n",
       "      <td>3504</td>\n",
       "      <td>12.0</td>\n",
       "      <td>70</td>\n",
       "      <td>usa</td>\n",
       "      <td>chevrolet chevelle malibu</td>\n",
       "    </tr>\n",
       "    <tr>\n",
       "      <th>1</th>\n",
       "      <td>15.0</td>\n",
       "      <td>8</td>\n",
       "      <td>350.0</td>\n",
       "      <td>165.0</td>\n",
       "      <td>3693</td>\n",
       "      <td>11.5</td>\n",
       "      <td>70</td>\n",
       "      <td>usa</td>\n",
       "      <td>buick skylark 320</td>\n",
       "    </tr>\n",
       "    <tr>\n",
       "      <th>2</th>\n",
       "      <td>18.0</td>\n",
       "      <td>8</td>\n",
       "      <td>318.0</td>\n",
       "      <td>150.0</td>\n",
       "      <td>3436</td>\n",
       "      <td>11.0</td>\n",
       "      <td>70</td>\n",
       "      <td>usa</td>\n",
       "      <td>plymouth satellite</td>\n",
       "    </tr>\n",
       "    <tr>\n",
       "      <th>3</th>\n",
       "      <td>16.0</td>\n",
       "      <td>8</td>\n",
       "      <td>304.0</td>\n",
       "      <td>150.0</td>\n",
       "      <td>3433</td>\n",
       "      <td>12.0</td>\n",
       "      <td>70</td>\n",
       "      <td>usa</td>\n",
       "      <td>amc rebel sst</td>\n",
       "    </tr>\n",
       "    <tr>\n",
       "      <th>4</th>\n",
       "      <td>17.0</td>\n",
       "      <td>8</td>\n",
       "      <td>302.0</td>\n",
       "      <td>140.0</td>\n",
       "      <td>3449</td>\n",
       "      <td>10.5</td>\n",
       "      <td>70</td>\n",
       "      <td>usa</td>\n",
       "      <td>ford torino</td>\n",
       "    </tr>\n",
       "  </tbody>\n",
       "</table>\n",
       "</div>"
      ],
      "text/plain": [
       "    mpg  cylinders  displacement  horsepower  weight  acceleration  \\\n",
       "0  18.0          8         307.0       130.0    3504          12.0   \n",
       "1  15.0          8         350.0       165.0    3693          11.5   \n",
       "2  18.0          8         318.0       150.0    3436          11.0   \n",
       "3  16.0          8         304.0       150.0    3433          12.0   \n",
       "4  17.0          8         302.0       140.0    3449          10.5   \n",
       "\n",
       "   model_year origin                       name  \n",
       "0          70    usa  chevrolet chevelle malibu  \n",
       "1          70    usa          buick skylark 320  \n",
       "2          70    usa         plymouth satellite  \n",
       "3          70    usa              amc rebel sst  \n",
       "4          70    usa                ford torino  "
      ]
     },
     "execution_count": 1,
     "metadata": {},
     "output_type": "execute_result"
    }
   ],
   "source": [
    "# Using the auto-mpg sample dataset\n",
    "import seaborn as sns\n",
    "data = sns.load_dataset('mpg')\n",
    "data.head()"
   ]
  },
  {
   "cell_type": "markdown",
   "metadata": {},
   "source": [
    "# 2. Get Summary Statistics\n",
    "\n",
    "## 2.1 Univariate Features"
   ]
  },
  {
   "cell_type": "code",
   "execution_count": 2,
   "metadata": {},
   "outputs": [
    {
     "data": {
      "text/plain": [
       "            Overview\n",
       "            ========\n",
       "Name: horsepower,\n",
       "Type: numeric,\n",
       "Unique Values: 93 -> {nan, 46.0, 48.0, 49.0, 52.0, 53.0, 54.0, 58.0, [...],\n",
       "Missing Values: 6 (1.51%)\n",
       "\n",
       "        Summary Statistics\n",
       "        ==================\n",
       "                        horsepower\n",
       "Number of observations  392.000000\n",
       "Average                 104.469388\n",
       "Standard Deviation       38.491160\n",
       "Minimum                  46.000000\n",
       "Lower Quartile           75.000000\n",
       "Median                   93.500000\n",
       "Upper Quartile          126.000000\n",
       "Maximum                 230.000000\n",
       "Skewness                  1.087326\n",
       "Kurtosis                  0.696947"
      ]
     },
     "execution_count": 2,
     "metadata": {},
     "output_type": "execute_result"
    }
   ],
   "source": [
    "from eda_report.univariate import Variable\n",
    "\n",
    "horse_power = Variable(data['horsepower'])\n",
    "horse_power"
   ]
  },
  {
   "cell_type": "markdown",
   "metadata": {},
   "source": [
    "## 2.2 Multivariate Datasets"
   ]
  },
  {
   "cell_type": "code",
   "execution_count": 3,
   "metadata": {
    "scrolled": false
   },
   "outputs": [
    {
     "name": "stderr",
     "output_type": "stream",
     "text": [
      "Bivariate analysis: 100%|██████████████████████████████████████████| 21/21 [00:05<00:00,  3.78it/s]\n"
     ]
    },
    {
     "data": {
      "text/plain": [
       "        Overview\n",
       "        ========\n",
       "Numeric features: mpg, cylinders, displacement, horsepower, weight, acceleration, model_year\n",
       "Categorical features: origin, name\n",
       "\n",
       "        Summary Statistics (Numeric features)\n",
       "        =====================================\n",
       "              mpg   cylinders  displacement  horsepower       weight  \\\n",
       "count  398.000000  398.000000    398.000000  392.000000   398.000000   \n",
       "mean    23.514573    5.454774    193.425879  104.469388  2970.424623   \n",
       "std      7.815984    1.701004    104.269838   38.491160   846.841774   \n",
       "min      9.000000    3.000000     68.000000   46.000000  1613.000000   \n",
       "25%     17.500000    4.000000    104.250000   75.000000  2223.750000   \n",
       "50%     23.000000    4.000000    148.500000   93.500000  2803.500000   \n",
       "75%     29.000000    8.000000    262.000000  126.000000  3608.000000   \n",
       "max     46.600000    8.000000    455.000000  230.000000  5140.000000   \n",
       "\n",
       "       acceleration  model_year  \n",
       "count    398.000000  398.000000  \n",
       "mean      15.568090   76.010050  \n",
       "std        2.757689    3.697627  \n",
       "min        8.000000   70.000000  \n",
       "25%       13.825000   73.000000  \n",
       "50%       15.500000   76.000000  \n",
       "75%       17.175000   79.000000  \n",
       "max       24.800000   82.000000  \n",
       "\n",
       "        Summary Statistics (Categorical features)\n",
       "        =========================================\n",
       "       origin        name\n",
       "count     398         398\n",
       "unique      3         305\n",
       "top       usa  ford pinto\n",
       "freq      249           6\n",
       "\n",
       "        Bivariate Analysis (Correlation)\n",
       "        ================================\n",
       "displacement & weight --> very strong positive correlation (0.93)\n",
       "displacement & model_year --> weak negative correlation (-0.37)\n",
       "displacement & acceleration --> moderate negative correlation (-0.54)\n",
       "cylinders & model_year --> weak negative correlation (-0.35)\n",
       "cylinders & weight --> strong positive correlation (0.90)\n",
       "cylinders & acceleration --> moderate negative correlation (-0.51)\n",
       "mpg & cylinders --> strong negative correlation (-0.78)\n",
       "mpg & horsepower --> strong negative correlation (-0.78)\n",
       "mpg & displacement --> strong negative correlation (-0.80)\n",
       "displacement & horsepower --> strong positive correlation (0.90)\n",
       "horsepower & weight --> strong positive correlation (0.86)\n",
       "horsepower & model_year --> weak negative correlation (-0.42)\n",
       "horsepower & acceleration --> moderate negative correlation (-0.69)\n",
       "cylinders & horsepower --> strong positive correlation (0.84)\n",
       "cylinders & displacement --> very strong positive correlation (0.95)\n",
       "acceleration & model_year --> very weak positive correlation (0.29)\n",
       "weight & model_year --> weak negative correlation (-0.31)\n",
       "weight & acceleration --> weak negative correlation (-0.42)\n",
       "mpg & model_year --> moderate positive correlation (0.58)\n",
       "mpg & weight --> strong negative correlation (-0.83)\n",
       "mpg & acceleration --> weak positive correlation (0.42)"
      ]
     },
     "execution_count": 3,
     "metadata": {},
     "output_type": "execute_result"
    }
   ],
   "source": [
    "from eda_report.multivariate import MultiVariable\n",
    "\n",
    "mpg = MultiVariable(data)\n",
    "mpg"
   ]
  },
  {
   "cell_type": "markdown",
   "metadata": {},
   "source": [
    "# 3. Generate an EDA report document\n",
    "\n",
    "You can customize the following:\n",
    "\n",
    "- `title`: default = 'Exploratory Data Analysis Report',\n",
    "- `graph_color`: default = 'orangered',\n",
    "- `output_filename`: default = 'eda-report.docx'"
   ]
  },
  {
   "cell_type": "code",
   "execution_count": 4,
   "metadata": {},
   "outputs": [
    {
     "name": "stderr",
     "output_type": "stream",
     "text": [
      "[INFO 17:19:42.572] Assessing correlation in numeric variables...\n",
      "Bivariate analysis: 100%|██████████████████████████████████████████| 21/21 [00:05<00:00,  3.79it/s]\n",
      "[INFO 17:19:54.631] Done. Summarising each variable...\n",
      "Univariate analysis: 100%|███████████████████████████████████████████| 9/9 [00:04<00:00,  2.25it/s]\n",
      "[INFO 17:19:59.285] Done. Results saved as 'eda-report.docx'\n"
     ]
    }
   ],
   "source": [
    "from eda_report import get_word_report\n",
    "\n",
    "# Automatically analyse the data, plot graphs and save results as a .docx file\n",
    "get_word_report(data)"
   ]
  }
 ],
 "metadata": {
  "kernelspec": {
   "display_name": "Python 3",
   "language": "python",
   "name": "python3"
  },
  "language_info": {
   "codemirror_mode": {
    "name": "ipython",
    "version": 3
   },
   "file_extension": ".py",
   "mimetype": "text/x-python",
   "name": "python",
   "nbconvert_exporter": "python",
   "pygments_lexer": "ipython3",
   "version": "3.8.5"
  }
 },
 "nbformat": 4,
 "nbformat_minor": 4
}
