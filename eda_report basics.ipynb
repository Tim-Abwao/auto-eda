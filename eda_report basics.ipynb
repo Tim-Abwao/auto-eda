{
 "cells": [
  {
   "cell_type": "markdown",
   "metadata": {},
   "source": [
    "# 1. Load a Dataset\n",
    "\n",
    "See [pandas IO tools][1] for ways to read data from various sources.\n",
    "\n",
    "[1]: https://pandas.pydata.org/pandas-docs/stable/user_guide/io.html"
   ]
  },
  {
   "cell_type": "code",
   "execution_count": 1,
   "metadata": {},
   "outputs": [
    {
     "data": {
      "text/html": [
       "<div>\n",
       "<style scoped>\n",
       "    .dataframe tbody tr th:only-of-type {\n",
       "        vertical-align: middle;\n",
       "    }\n",
       "\n",
       "    .dataframe tbody tr th {\n",
       "        vertical-align: top;\n",
       "    }\n",
       "\n",
       "    .dataframe thead th {\n",
       "        text-align: right;\n",
       "    }\n",
       "</style>\n",
       "<table border=\"1\" class=\"dataframe\">\n",
       "  <thead>\n",
       "    <tr style=\"text-align: right;\">\n",
       "      <th></th>\n",
       "      <th>sepal_length</th>\n",
       "      <th>sepal_width</th>\n",
       "      <th>petal_length</th>\n",
       "      <th>petal_width</th>\n",
       "      <th>species</th>\n",
       "    </tr>\n",
       "  </thead>\n",
       "  <tbody>\n",
       "    <tr>\n",
       "      <th>0</th>\n",
       "      <td>5.1</td>\n",
       "      <td>3.5</td>\n",
       "      <td>1.4</td>\n",
       "      <td>0.2</td>\n",
       "      <td>setosa</td>\n",
       "    </tr>\n",
       "    <tr>\n",
       "      <th>1</th>\n",
       "      <td>4.9</td>\n",
       "      <td>3.0</td>\n",
       "      <td>1.4</td>\n",
       "      <td>0.2</td>\n",
       "      <td>setosa</td>\n",
       "    </tr>\n",
       "    <tr>\n",
       "      <th>2</th>\n",
       "      <td>4.7</td>\n",
       "      <td>3.2</td>\n",
       "      <td>1.3</td>\n",
       "      <td>0.2</td>\n",
       "      <td>setosa</td>\n",
       "    </tr>\n",
       "    <tr>\n",
       "      <th>3</th>\n",
       "      <td>4.6</td>\n",
       "      <td>3.1</td>\n",
       "      <td>1.5</td>\n",
       "      <td>0.2</td>\n",
       "      <td>setosa</td>\n",
       "    </tr>\n",
       "    <tr>\n",
       "      <th>4</th>\n",
       "      <td>5.0</td>\n",
       "      <td>3.6</td>\n",
       "      <td>1.4</td>\n",
       "      <td>0.2</td>\n",
       "      <td>setosa</td>\n",
       "    </tr>\n",
       "  </tbody>\n",
       "</table>\n",
       "</div>"
      ],
      "text/plain": [
       "   sepal_length  sepal_width  petal_length  petal_width species\n",
       "0           5.1          3.5           1.4          0.2  setosa\n",
       "1           4.9          3.0           1.4          0.2  setosa\n",
       "2           4.7          3.2           1.3          0.2  setosa\n",
       "3           4.6          3.1           1.5          0.2  setosa\n",
       "4           5.0          3.6           1.4          0.2  setosa"
      ]
     },
     "execution_count": 1,
     "metadata": {},
     "output_type": "execute_result"
    }
   ],
   "source": [
    "# Using the iris sample dataset\n",
    "import seaborn as sns\n",
    "iris_data = sns.load_dataset('iris')\n",
    "iris_data.head()"
   ]
  },
  {
   "cell_type": "markdown",
   "metadata": {},
   "source": [
    "# 2. Get Summary Statistics\n",
    "\n",
    "## 2.1 Univariate Features"
   ]
  },
  {
   "cell_type": "code",
   "execution_count": 2,
   "metadata": {},
   "outputs": [
    {
     "data": {
      "text/plain": [
       "            Overview\n",
       "            ========\n",
       "Name: sepal_width,\n",
       "Type: numeric,\n",
       "Unique Values: 23 -> {2.9, 3.0, 3.5, 3.2, 3.6, 3.1, 3.9, 3.4, 3.7, [...],\n",
       "Missing Values: None\n",
       "\n",
       "        Summary Statistics\n",
       "        ==================\n",
       "                        sepal_width\n",
       "Number of observations   150.000000\n",
       "Average                    3.057333\n",
       "Standard Deviation         0.435866\n",
       "Minimum                    2.000000\n",
       "Lower Quartile             2.800000\n",
       "Median                     3.000000\n",
       "Upper Quartile             3.300000\n",
       "Maximum                    4.400000\n",
       "Skewness                   0.318966\n",
       "Kurtosis                   0.228249"
      ]
     },
     "execution_count": 2,
     "metadata": {},
     "output_type": "execute_result"
    }
   ],
   "source": [
    "from eda_report.univariate import Variable\n",
    "\n",
    "sepal_width = Variable(iris_data['sepal_width'])\n",
    "sepal_width"
   ]
  },
  {
   "cell_type": "markdown",
   "metadata": {},
   "source": [
    "## 2.2 Multivariate Datasets"
   ]
  },
  {
   "cell_type": "code",
   "execution_count": 3,
   "metadata": {
    "scrolled": false
   },
   "outputs": [
    {
     "name": "stderr",
     "output_type": "stream",
     "text": [
      "Bivariate analysis: 100%|████████████████████████████████████████████| 6/6 [00:01<00:00,  3.79it/s]\n"
     ]
    },
    {
     "data": {
      "text/plain": [
       "        Overview\n",
       "        ========\n",
       "Numeric features: sepal_length, sepal_width, petal_length, petal_width\n",
       "Categorical features: species\n",
       "\n",
       "        Summary Statistics (Numeric features)\n",
       "        =====================================\n",
       "       sepal_length  sepal_width  petal_length  petal_width\n",
       "count    150.000000   150.000000    150.000000   150.000000\n",
       "mean       5.843333     3.057333      3.758000     1.199333\n",
       "std        0.828066     0.435866      1.765298     0.762238\n",
       "min        4.300000     2.000000      1.000000     0.100000\n",
       "25%        5.100000     2.800000      1.600000     0.300000\n",
       "50%        5.800000     3.000000      4.350000     1.300000\n",
       "75%        6.400000     3.300000      5.100000     1.800000\n",
       "max        7.900000     4.400000      6.900000     2.500000\n",
       "\n",
       "        Summary Statistics (Categorical features)\n",
       "        =========================================\n",
       "          species\n",
       "count         150\n",
       "unique          3\n",
       "top     virginica\n",
       "freq           50\n",
       "\n",
       "        Bivariate Analysis (Correlation)\n",
       "        ================================\n",
       "sepal_length & sepal_width --> very weak negative correlation (-0.12)\n",
       "sepal_length & petal_width --> strong positive correlation (0.82)\n",
       "sepal_width & petal_width --> weak negative correlation (-0.37)\n",
       "sepal_width & petal_length --> weak negative correlation (-0.43)\n",
       "sepal_length & petal_length --> strong positive correlation (0.87)\n",
       "petal_length & petal_width --> very strong positive correlation (0.96)"
      ]
     },
     "execution_count": 3,
     "metadata": {},
     "output_type": "execute_result"
    }
   ],
   "source": [
    "from eda_report.multivariate import MultiVariable\n",
    "\n",
    "mpg = MultiVariable(data=iris_data)\n",
    "mpg"
   ]
  },
  {
   "cell_type": "markdown",
   "metadata": {},
   "source": [
    "# 3. Generate an EDA report document\n",
    "\n",
    "You can customize the following:\n",
    "\n",
    "- `title`: default = 'Exploratory Data Analysis Report',\n",
    "- `graph_color`: default = 'orangered',\n",
    "- `output_filename`: default = 'eda-report.docx'\n",
    "- `target_variable`"
   ]
  },
  {
   "cell_type": "code",
   "execution_count": 4,
   "metadata": {
    "scrolled": true
   },
   "outputs": [
    {
     "name": "stderr",
     "output_type": "stream",
     "text": [
      "[INFO 22:03:39.289] Assessing correlation in numeric variables...\n",
      "Bivariate analysis: 100%|████████████████████████████████████████████| 6/6 [00:01<00:00,  4.02it/s]\n",
      "[INFO 22:03:44.488] Done. Summarising each variable...\n",
      "Univariate analysis: 100%|███████████████████████████████████████████| 5/5 [00:02<00:00,  2.09it/s]\n",
      "[INFO 22:03:47.081] Done. Results saved as 'eda-report.docx'\n"
     ]
    }
   ],
   "source": [
    "from eda_report import get_word_report\n",
    "\n",
    "# Automatically analyse the data, plot graphs and save results as a .docx file\n",
    "result = 'eda-report.docx'\n",
    "get_word_report(iris_data, output_filename=result, target_variable='species')"
   ]
  },
  {
   "cell_type": "markdown",
   "metadata": {},
   "source": [
    "## Download the report\n",
    "\n",
    "Click on the link in the output of the cell below to download the generated report document."
   ]
  },
  {
   "cell_type": "code",
   "execution_count": 5,
   "metadata": {},
   "outputs": [
    {
     "data": {
      "text/html": [
       "<a href='eda-report.docx' target='_blank'>eda-report.docx</a><br>"
      ],
      "text/plain": [
       "/home/tim/Projects/auto-eda/eda-report.docx"
      ]
     },
     "execution_count": 5,
     "metadata": {},
     "output_type": "execute_result"
    }
   ],
   "source": [
    "from IPython.display import FileLink\n",
    "\n",
    "FileLink(result)"
   ]
  }
 ],
 "metadata": {
  "kernelspec": {
   "display_name": "Python 3",
   "language": "python",
   "name": "python3"
  },
  "language_info": {
   "codemirror_mode": {
    "name": "ipython",
    "version": 3
   },
   "file_extension": ".py",
   "mimetype": "text/x-python",
   "name": "python",
   "nbconvert_exporter": "python",
   "pygments_lexer": "ipython3",
   "version": "3.8.5"
  }
 },
 "nbformat": 4,
 "nbformat_minor": 4
}
