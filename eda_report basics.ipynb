{
 "cells": [
  {
   "cell_type": "markdown",
   "metadata": {},
   "source": [
    "## 1. Load a dataset\n",
    "\n",
    "The program expects a pandas `DataFrame`."
   ]
  },
  {
   "cell_type": "code",
   "execution_count": 1,
   "metadata": {},
   "outputs": [
    {
     "data": {
      "text/html": [
       "<div>\n",
       "<style scoped>\n",
       "    .dataframe tbody tr th:only-of-type {\n",
       "        vertical-align: middle;\n",
       "    }\n",
       "\n",
       "    .dataframe tbody tr th {\n",
       "        vertical-align: top;\n",
       "    }\n",
       "\n",
       "    .dataframe thead th {\n",
       "        text-align: right;\n",
       "    }\n",
       "</style>\n",
       "<table border=\"1\" class=\"dataframe\">\n",
       "  <thead>\n",
       "    <tr style=\"text-align: right;\">\n",
       "      <th></th>\n",
       "      <th>mpg</th>\n",
       "      <th>cylinders</th>\n",
       "      <th>displacement</th>\n",
       "      <th>horsepower</th>\n",
       "      <th>weight</th>\n",
       "      <th>acceleration</th>\n",
       "      <th>model_year</th>\n",
       "      <th>origin</th>\n",
       "      <th>name</th>\n",
       "    </tr>\n",
       "  </thead>\n",
       "  <tbody>\n",
       "    <tr>\n",
       "      <th>0</th>\n",
       "      <td>18.0</td>\n",
       "      <td>8</td>\n",
       "      <td>307.0</td>\n",
       "      <td>130.0</td>\n",
       "      <td>3504</td>\n",
       "      <td>12.0</td>\n",
       "      <td>70</td>\n",
       "      <td>usa</td>\n",
       "      <td>chevrolet chevelle malibu</td>\n",
       "    </tr>\n",
       "    <tr>\n",
       "      <th>1</th>\n",
       "      <td>15.0</td>\n",
       "      <td>8</td>\n",
       "      <td>350.0</td>\n",
       "      <td>165.0</td>\n",
       "      <td>3693</td>\n",
       "      <td>11.5</td>\n",
       "      <td>70</td>\n",
       "      <td>usa</td>\n",
       "      <td>buick skylark 320</td>\n",
       "    </tr>\n",
       "    <tr>\n",
       "      <th>2</th>\n",
       "      <td>18.0</td>\n",
       "      <td>8</td>\n",
       "      <td>318.0</td>\n",
       "      <td>150.0</td>\n",
       "      <td>3436</td>\n",
       "      <td>11.0</td>\n",
       "      <td>70</td>\n",
       "      <td>usa</td>\n",
       "      <td>plymouth satellite</td>\n",
       "    </tr>\n",
       "    <tr>\n",
       "      <th>3</th>\n",
       "      <td>16.0</td>\n",
       "      <td>8</td>\n",
       "      <td>304.0</td>\n",
       "      <td>150.0</td>\n",
       "      <td>3433</td>\n",
       "      <td>12.0</td>\n",
       "      <td>70</td>\n",
       "      <td>usa</td>\n",
       "      <td>amc rebel sst</td>\n",
       "    </tr>\n",
       "    <tr>\n",
       "      <th>4</th>\n",
       "      <td>17.0</td>\n",
       "      <td>8</td>\n",
       "      <td>302.0</td>\n",
       "      <td>140.0</td>\n",
       "      <td>3449</td>\n",
       "      <td>10.5</td>\n",
       "      <td>70</td>\n",
       "      <td>usa</td>\n",
       "      <td>ford torino</td>\n",
       "    </tr>\n",
       "  </tbody>\n",
       "</table>\n",
       "</div>"
      ],
      "text/plain": [
       "    mpg  cylinders  displacement  horsepower  weight  acceleration  \\\n",
       "0  18.0          8         307.0       130.0    3504          12.0   \n",
       "1  15.0          8         350.0       165.0    3693          11.5   \n",
       "2  18.0          8         318.0       150.0    3436          11.0   \n",
       "3  16.0          8         304.0       150.0    3433          12.0   \n",
       "4  17.0          8         302.0       140.0    3449          10.5   \n",
       "\n",
       "   model_year origin                       name  \n",
       "0          70    usa  chevrolet chevelle malibu  \n",
       "1          70    usa          buick skylark 320  \n",
       "2          70    usa         plymouth satellite  \n",
       "3          70    usa              amc rebel sst  \n",
       "4          70    usa                ford torino  "
      ]
     },
     "execution_count": 1,
     "metadata": {},
     "output_type": "execute_result"
    }
   ],
   "source": [
    "# Using the auto-mpg sample dataset\n",
    "import seaborn as sns\n",
    "data = sns.load_dataset('mpg')\n",
    "data.head()"
   ]
  },
  {
   "cell_type": "markdown",
   "metadata": {},
   "source": [
    "## 2. Get statistics and graphs"
   ]
  },
  {
   "cell_type": "code",
   "execution_count": 2,
   "metadata": {
    "scrolled": false
   },
   "outputs": [
    {
     "name": "stderr",
     "output_type": "stream",
     "text": [
      "100%|██████████████████████████████████████████| 21/21 [00:07<00:00,  2.85it/s]\n"
     ]
    },
    {
     "data": {
      "text/plain": [
       "{('displacement', 'model_year'): 'weak negative correlation (-0.37)',\n",
       " ('mpg', 'displacement'): 'strong negative correlation (-0.80)',\n",
       " ('cylinders', 'model_year'): 'weak negative correlation (-0.35)',\n",
       " ('displacement', 'acceleration'): 'moderate negative correlation (-0.54)',\n",
       " ('mpg', 'horsepower'): 'strong negative correlation (-0.78)',\n",
       " ('cylinders', 'acceleration'): 'moderate negative correlation (-0.51)',\n",
       " ('mpg', 'cylinders'): 'strong negative correlation (-0.78)',\n",
       " ('displacement', 'horsepower'): 'strong positive correlation (0.90)',\n",
       " ('cylinders', 'displacement'): 'very strong positive correlation (0.95)',\n",
       " ('cylinders', 'horsepower'): 'strong positive correlation (0.84)',\n",
       " ('horsepower', 'weight'): 'strong positive correlation (0.86)',\n",
       " ('mpg', 'weight'): 'strong negative correlation (-0.83)',\n",
       " ('horsepower', 'model_year'): 'weak negative correlation (-0.42)',\n",
       " ('horsepower', 'acceleration'): 'moderate negative correlation (-0.69)',\n",
       " ('mpg', 'model_year'): 'moderate positive correlation (0.58)',\n",
       " ('displacement', 'weight'): 'very strong positive correlation (0.93)',\n",
       " ('cylinders', 'weight'): 'strong positive correlation (0.90)',\n",
       " ('weight', 'model_year'): 'weak negative correlation (-0.31)',\n",
       " ('mpg', 'acceleration'): 'weak positive correlation (0.42)',\n",
       " ('weight', 'acceleration'): 'weak negative correlation (-0.42)',\n",
       " ('acceleration', 'model_year'): 'very weak positive correlation (0.29)'}"
      ]
     },
     "execution_count": 2,
     "metadata": {},
     "output_type": "execute_result"
    }
   ],
   "source": [
    "from eda_report.multivariate import MultiVariable\n",
    "\n",
    "x = MultiVariable(data)\n",
    "x.corr_type"
   ]
  },
  {
   "cell_type": "code",
   "execution_count": 3,
   "metadata": {},
   "outputs": [],
   "source": [
    "x.show_correlation_heatmap()"
   ]
  },
  {
   "cell_type": "code",
   "execution_count": 4,
   "metadata": {},
   "outputs": [],
   "source": [
    "x.show_joint_scatterplot()"
   ]
  },
  {
   "cell_type": "code",
   "execution_count": 5,
   "metadata": {},
   "outputs": [
    {
     "data": {
      "text/plain": [
       "Number of observations    392.000000\n",
       "Average                   104.469388\n",
       "Standard Deviation         38.491160\n",
       "Minimum                    46.000000\n",
       "Lower Quartile             75.000000\n",
       "Median                     93.500000\n",
       "Upper Quartile            126.000000\n",
       "Maximum                   230.000000\n",
       "Skewness                    1.087326\n",
       "Kurtosis                    0.696947\n",
       "Name: horsepower, dtype: float64"
      ]
     },
     "execution_count": 5,
     "metadata": {},
     "output_type": "execute_result"
    }
   ],
   "source": [
    "from eda_report.univariate import Variable\n",
    "\n",
    "horse_power = Variable(data['horsepower'])\n",
    "horse_power.statistics"
   ]
  },
  {
   "cell_type": "code",
   "execution_count": 6,
   "metadata": {},
   "outputs": [],
   "source": [
    "horse_power.show_graphs()"
   ]
  },
  {
   "cell_type": "markdown",
   "metadata": {},
   "source": [
    "## 3. Create an EDA report\n",
    "\n",
    "You can customize the following:\n",
    "\n",
    "- `title`: default = 'Exploratory Data Analysis Report',\n",
    "- `graph_color`: default = 'orangered',\n",
    "- `output_filename`: default = 'eda-report.docx'"
   ]
  },
  {
   "cell_type": "code",
   "execution_count": 7,
   "metadata": {},
   "outputs": [
    {
     "name": "stderr",
     "output_type": "stream",
     "text": [
      "[INFO 17:51:50.376] Assessing correlation in numeric variables...\n",
      "100%|██████████████████████████████████████████| 21/21 [00:07<00:00,  2.79it/s]\n",
      "[INFO 17:52:03.677] Done. Summarising each variable...\n",
      "100%|████████████████████████████████████████████| 9/9 [00:01<00:00,  5.35it/s]\n",
      "[INFO 17:52:05.599] Done. Results saved as 'eda-report.docx'\n"
     ]
    }
   ],
   "source": [
    "from eda_report import get_word_report\n",
    "get_word_report(data)"
   ]
  }
 ],
 "metadata": {
  "kernelspec": {
   "display_name": "Python 3",
   "language": "python",
   "name": "python3"
  },
  "language_info": {
   "codemirror_mode": {
    "name": "ipython",
    "version": 3
   },
   "file_extension": ".py",
   "mimetype": "text/x-python",
   "name": "python",
   "nbconvert_exporter": "python",
   "pygments_lexer": "ipython3",
   "version": "3.8.5"
  }
 },
 "nbformat": 4,
 "nbformat_minor": 4
}
